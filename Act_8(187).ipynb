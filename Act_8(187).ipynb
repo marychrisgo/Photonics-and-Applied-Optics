{
 "cells": [
  {
   "cell_type": "code",
   "execution_count": 1,
   "metadata": {
    "ExecuteTime": {
     "end_time": "2019-09-25T07:33:01.368202Z",
     "start_time": "2019-09-25T07:32:55.024932Z"
    }
   },
   "outputs": [
    {
     "name": "stderr",
     "output_type": "stream",
     "text": [
      "C:\\Users\\MaryChrisGo\\Anaconda3\\lib\\site-packages\\numpy\\core\\__init__.py:29: UserWarning: loaded more than 1 DLL from .libs:\n",
      "C:\\Users\\MaryChrisGo\\Anaconda3\\lib\\site-packages\\numpy\\.libs\\libopenblas.IPBC74C7KURV7CB2PKT5Z5FNR3SIBV4J.gfortran-win_amd64.dll\n",
      "C:\\Users\\MaryChrisGo\\Anaconda3\\lib\\site-packages\\numpy\\.libs\\libopenblas.TXA6YQSD3GCQQC22GEQ54J2UDCXDXHWN.gfortran-win_amd64.dll\n",
      "  stacklevel=1)\n"
     ]
    }
   ],
   "source": [
    "import numpy as np\n",
    "import matplotlib.pyplot as plt"
   ]
  },
  {
   "cell_type": "code",
   "execution_count": 2,
   "metadata": {
    "ExecuteTime": {
     "end_time": "2019-09-25T07:40:57.068259Z",
     "start_time": "2019-09-25T07:40:57.053477Z"
    }
   },
   "outputs": [],
   "source": [
    "#CIE 1964\n",
    "xbar = np.loadtxt(\"r.txt\")\n",
    "ybar = np.loadtxt(\"g.txt\")\n",
    "zbar = np.loadtxt(\"b.txt\")\n",
    "wave = np.loadtxt(\"Wavelength.txt\")"
   ]
  },
  {
   "cell_type": "code",
   "execution_count": null,
   "metadata": {},
   "outputs": [],
   "source": [
    "#Macbeth\n",
    "mac_wave = np.loadtxt(\"mac_wav.txt\")\n",
    "mac = np.loadtxt('MacbethcolorChecker.xls',float)\n",
    "m_1 = mac[:,1]\n",
    "m_2 = mac[:,2]\n",
    "m_3 = mac[:,3]\n",
    "m_4 = mac[:,4] \n",
    "m_5 = mac[:,5]\n",
    "m_6 = mac[:,6]\n",
    "m_7 = mac[:,7]\n",
    "m_8 = mac[:,8]\n",
    "m_9 = mac[:,9]\n",
    "m_10 = mac[:,10]\n",
    "m_11 = mac[:,11]\n",
    "m_12 = mac[:,12]\n",
    "m_13 = mac[:,13]\n",
    "m_14 = mac[:,14]\n",
    "m_15 = mac[:,15]\n",
    "m_16 = mac[:,16]\n",
    "m_17 = mac[:,17]\n",
    "m_18 = mac[:,18]\n",
    "m_19 = mac[:,19]\n",
    "m_20 = mac[:,20]\n",
    "m_21 = mac[:,21]\n",
    "m_22 = mac[:,22]\n",
    "m_23 = mac[:,23]\n",
    "m_24 = mac[:,24]\n",
    "#Light Sources\n",
    "ls = np.loadtxt('lss.txt',float)\n",
    "D_x = np.loadtxt('D_x.txt',float)\n",
    "D65 = np.loadtxt('D65_y.txt',float)\n",
    "D55 = np.loadtxt('D55_y.txt',float)\n",
    "fl_x = ls[:,0]\n",
    "fl_y = ls[:,1]\n",
    "wled_x = ls[:,2]\n",
    "wled_y = ls[:,3]\n",
    "inc_x = ls[:,6]\n",
    "inc_y = ls[:,7]"
   ]
  }
 ],
 "metadata": {
  "kernelspec": {
   "display_name": "Python 3",
   "language": "python",
   "name": "python3"
  },
  "language_info": {
   "codemirror_mode": {
    "name": "ipython",
    "version": 3
   },
   "file_extension": ".py",
   "mimetype": "text/x-python",
   "name": "python",
   "nbconvert_exporter": "python",
   "pygments_lexer": "ipython3",
   "version": "3.6.5"
  }
 },
 "nbformat": 4,
 "nbformat_minor": 2
}
